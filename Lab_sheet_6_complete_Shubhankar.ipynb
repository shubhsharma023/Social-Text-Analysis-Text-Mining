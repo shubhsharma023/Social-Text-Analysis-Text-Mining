{
  "nbformat": 4,
  "nbformat_minor": 0,
  "metadata": {
    "colab": {
      "provenance": []
    },
    "kernelspec": {
      "name": "python3",
      "display_name": "Python 3"
    },
    "language_info": {
      "name": "python"
    }
  },
  "cells": [
    {
      "cell_type": "markdown",
      "source": [
        "# **Lab Sheet6: Content Analysis**"
      ],
      "metadata": {
        "id": "GHzKi21YDo-N"
      }
    },
    {
      "cell_type": "markdown",
      "source": [
        "Objective:\n",
        "To understand and apply content analysis techniques such as text preprocessing, word frequency analysis, keyword extraction (TF-IDF), and sentiment analysis on a given text dataset using Python."
      ],
      "metadata": {
        "id": "qDF_fWalGCyV"
      }
    },
    {
      "cell_type": "markdown",
      "source": [
        "Instructions:\n",
        "\n",
        "Task 1: Setup and Data Loading\n",
        "\n",
        "Task 2: Text Preprocessing\n",
        "\n",
        "* Clean the Text:Remove punctuation, convert text to lowercase, remove stop words, and tokenize the text.\n",
        "* Tokenization (Optional):\n",
        "\n",
        "If desired, further break down the cleaned text into individual tokens.\n",
        "\n",
        "Task 3: Word Frequency Analysis\n",
        "* Compute Word Frequency:\n",
        "Count the frequency of each word in the cleaned text\n",
        "\n",
        "Task 4: Keyword Extraction (TF-IDF)\n",
        "* Compute TF-IDF: Use TfidfVectorizer from sklearn to extract important keywords.\n",
        "\n",
        "Task 4: Sentiment Analysis\n",
        "* Perform sentiment analysis: Use nltk's VADER tool for sentiment analysis.\n",
        "\n",
        "* Categorize sentiment: Label text as positive, neutral, or negative based on sentiment score.\n",
        "\n",
        "* Analyze Sentiment Distribution:\n",
        "Plot a pie chart to show the distribution of positive, negative, and neutral reviews."
      ],
      "metadata": {
        "id": "qmM_seAFGEcU"
      }
    },
    {
      "cell_type": "markdown",
      "source": [
        "# The Dataset we used for this is scraped from Reddit Post\n",
        " (Link-\"https://www.reddit.com/r/TrueUnpopularOpinion/comments/mx67mq/there_are_only_2_genders/\")\n",
        "\n",
        " ## Content analysis on \"There are only 2 genders.\"\n",
        " dataset count (comments) = 13798\n",
        "\n",
        " Shubhankar Sharma\n",
        " 102118021"
      ],
      "metadata": {
        "id": "P36eZY81zKkf"
      }
    },
    {
      "cell_type": "code",
      "source": [
        "import pandas as pd\n",
        "\n",
        "# Load the dataset\n",
        "df = pd.read_excel('/content/dataset.xlsx')  # Replace with the actual uploaded filename\n",
        "print(df.head())  # View the first few rows of the dataset\n"
      ],
      "metadata": {
        "colab": {
          "base_uri": "https://localhost:8080/"
        },
        "id": "rCdPvY9Px5SM",
        "outputId": "c765e580-2536-4833-e4c7-f6a0a88cc38e"
      },
      "execution_count": 8,
      "outputs": [
        {
          "output_type": "stream",
          "name": "stdout",
          "text": [
            "                                                body              category  \\\n",
            "0  It's sad that this is now an unpopular opinion...                   NaN   \n",
            "1                                          [deleted]  TrueUnpopularOpinion   \n",
            "2  Or you're some mix of the two, but its very ve...  TrueUnpopularOpinion   \n",
            "3                         Literal Newspeak in action  TrueUnpopularOpinion   \n",
            "4                    one genders actually\\n\\n_monke_  TrueUnpopularOpinion   \n",
            "\n",
            "            communityName                 createdAt dataType  flair  \\\n",
            "0  r/TrueUnpopularOpinion  2021-04-23T22:01:51.000Z     post    NaN   \n",
            "1  r/TrueUnpopularOpinion  2021-04-23T23:13:14.000Z  comment    NaN   \n",
            "2  r/TrueUnpopularOpinion  2021-04-23T23:58:53.000Z  comment    NaN   \n",
            "3  r/TrueUnpopularOpinion  2021-04-24T00:53:20.000Z  comment    NaN   \n",
            "4  r/TrueUnpopularOpinion  2021-04-24T02:03:16.000Z  comment    NaN   \n",
            "\n",
            "                                                html          id   isAd  \\\n",
            "0  &lt;!-- SC_OFF --&gt;&lt;div class=\"md\"&gt;&lt...   t3_mx67mq  False   \n",
            "1  &lt;div class=\"md\"&gt;&lt;p&gt;[deleted]&lt;/p...  t1_gvmgbcc    NaN   \n",
            "2  &lt;div class=\"md\"&gt;&lt;p&gt;Or you&amp;#39;...  t1_gvmlgns    NaN   \n",
            "3  &lt;div class=\"md\"&gt;&lt;p&gt;Literal Newspea...  t1_gvmrhkb    NaN   \n",
            "4  &lt;div class=\"md\"&gt;&lt;p&gt;one genders act...  t1_gvmz25y    NaN   \n",
            "\n",
            "  isVideo  ...    parsedId     postId                 scrapedAt thumbnailUrl  \\\n",
            "0   False  ...      mx67mq        NaN  2024-09-14T18:07:41.618Z         self   \n",
            "1     NaN  ...  t1_gvmgbcc  t3_mx67mq  2024-09-14T18:07:41.648Z          NaN   \n",
            "2     NaN  ...  t1_gvmlgns  t3_mx67mq  2024-09-14T18:07:41.648Z          NaN   \n",
            "3     NaN  ...  t1_gvmrhkb  t3_mx67mq  2024-09-14T18:07:41.648Z          NaN   \n",
            "4     NaN  ...  t1_gvmz25y  t3_mx67mq  2024-09-14T18:07:41.648Z          NaN   \n",
            "\n",
            "                       title upVoteRatio upVotes  \\\n",
            "0  There are only 2 genders.        0.84     697   \n",
            "1                        NaN         NaN     187   \n",
            "2                        NaN         NaN      47   \n",
            "3                        NaN         NaN       9   \n",
            "4                        NaN         NaN      67   \n",
            "\n",
            "                                                 url       userId  \\\n",
            "0  https://www.reddit.com/r/TrueUnpopularOpinion/...          NaN   \n",
            "1  https://www.reddit.com/r/TrueUnpopularOpinion/...          NaN   \n",
            "2  https://www.reddit.com/r/TrueUnpopularOpinion/...     t2_6selg   \n",
            "3  https://www.reddit.com/r/TrueUnpopularOpinion/...          NaN   \n",
            "4  https://www.reddit.com/r/TrueUnpopularOpinion/...  t2_262u5ly2   \n",
            "\n",
            "          username  \n",
            "0        [deleted]  \n",
            "1        [deleted]  \n",
            "2    sakurashinken  \n",
            "3        [deleted]  \n",
            "4  waytothestriker  \n",
            "\n",
            "[5 rows x 25 columns]\n"
          ]
        }
      ]
    },
    {
      "cell_type": "code",
      "source": [
        "import string\n",
        "from nltk.corpus import stopwords\n",
        "import nltk\n",
        "\n",
        "nltk.download('stopwords')\n",
        "stop_words = set(stopwords.words('english'))\n",
        "\n",
        "def clean_text(text):\n",
        "    text = text.translate(str.maketrans('', '', string.punctuation))  # Remove punctuation\n",
        "    text = text.lower()  # Convert text to lowercase\n",
        "    tokens = text.split()  # Split text into words\n",
        "    tokens = [word for word in tokens if word not in stop_words]  # Remove stop words\n",
        "    return ' '.join(tokens)  # Rejoin the cleaned tokens\n",
        "\n",
        "# Apply the text cleaning\n",
        "df['cleaned_review'] = df['body'].apply(clean_text)  # Assuming 'review' is the column with text\n",
        "print(df.head())  # View the updated DataFrame with cleaned text\n"
      ],
      "metadata": {
        "colab": {
          "base_uri": "https://localhost:8080/"
        },
        "id": "einsp4ghx5bs",
        "outputId": "bffca420-d08a-446d-ef85-4e32154c6bed"
      },
      "execution_count": 9,
      "outputs": [
        {
          "output_type": "stream",
          "name": "stderr",
          "text": [
            "[nltk_data] Downloading package stopwords to /root/nltk_data...\n",
            "[nltk_data]   Package stopwords is already up-to-date!\n"
          ]
        },
        {
          "output_type": "stream",
          "name": "stdout",
          "text": [
            "                                                body              category  \\\n",
            "0  It's sad that this is now an unpopular opinion...                   NaN   \n",
            "1                                          [deleted]  TrueUnpopularOpinion   \n",
            "2  Or you're some mix of the two, but its very ve...  TrueUnpopularOpinion   \n",
            "3                         Literal Newspeak in action  TrueUnpopularOpinion   \n",
            "4                    one genders actually\\n\\n_monke_  TrueUnpopularOpinion   \n",
            "\n",
            "            communityName                 createdAt dataType  flair  \\\n",
            "0  r/TrueUnpopularOpinion  2021-04-23T22:01:51.000Z     post    NaN   \n",
            "1  r/TrueUnpopularOpinion  2021-04-23T23:13:14.000Z  comment    NaN   \n",
            "2  r/TrueUnpopularOpinion  2021-04-23T23:58:53.000Z  comment    NaN   \n",
            "3  r/TrueUnpopularOpinion  2021-04-24T00:53:20.000Z  comment    NaN   \n",
            "4  r/TrueUnpopularOpinion  2021-04-24T02:03:16.000Z  comment    NaN   \n",
            "\n",
            "                                                html          id   isAd  \\\n",
            "0  &lt;!-- SC_OFF --&gt;&lt;div class=\"md\"&gt;&lt...   t3_mx67mq  False   \n",
            "1  &lt;div class=\"md\"&gt;&lt;p&gt;[deleted]&lt;/p...  t1_gvmgbcc    NaN   \n",
            "2  &lt;div class=\"md\"&gt;&lt;p&gt;Or you&amp;#39;...  t1_gvmlgns    NaN   \n",
            "3  &lt;div class=\"md\"&gt;&lt;p&gt;Literal Newspea...  t1_gvmrhkb    NaN   \n",
            "4  &lt;div class=\"md\"&gt;&lt;p&gt;one genders act...  t1_gvmz25y    NaN   \n",
            "\n",
            "  isVideo  ...     postId                 scrapedAt thumbnailUrl  \\\n",
            "0   False  ...        NaN  2024-09-14T18:07:41.618Z         self   \n",
            "1     NaN  ...  t3_mx67mq  2024-09-14T18:07:41.648Z          NaN   \n",
            "2     NaN  ...  t3_mx67mq  2024-09-14T18:07:41.648Z          NaN   \n",
            "3     NaN  ...  t3_mx67mq  2024-09-14T18:07:41.648Z          NaN   \n",
            "4     NaN  ...  t3_mx67mq  2024-09-14T18:07:41.648Z          NaN   \n",
            "\n",
            "                       title upVoteRatio upVotes  \\\n",
            "0  There are only 2 genders.        0.84     697   \n",
            "1                        NaN         NaN     187   \n",
            "2                        NaN         NaN      47   \n",
            "3                        NaN         NaN       9   \n",
            "4                        NaN         NaN      67   \n",
            "\n",
            "                                                 url       userId  \\\n",
            "0  https://www.reddit.com/r/TrueUnpopularOpinion/...          NaN   \n",
            "1  https://www.reddit.com/r/TrueUnpopularOpinion/...          NaN   \n",
            "2  https://www.reddit.com/r/TrueUnpopularOpinion/...     t2_6selg   \n",
            "3  https://www.reddit.com/r/TrueUnpopularOpinion/...          NaN   \n",
            "4  https://www.reddit.com/r/TrueUnpopularOpinion/...  t2_262u5ly2   \n",
            "\n",
            "          username                                     cleaned_review  \n",
            "0        [deleted]  sad unpopular opinion definition genderstraigh...  \n",
            "1        [deleted]                                            deleted  \n",
            "2    sakurashinken  youre mix two rare youre one whole intersex co...  \n",
            "3        [deleted]                            literal newspeak action  \n",
            "4  waytothestriker                         one genders actually monke  \n",
            "\n",
            "[5 rows x 26 columns]\n"
          ]
        }
      ]
    },
    {
      "cell_type": "code",
      "source": [
        "from collections import Counter\n",
        "\n",
        "all_words = ' '.join(df['cleaned_review']).split()\n",
        "word_freq = Counter(all_words)\n",
        "\n",
        "# Display the 10 most common words\n",
        "print(\"Most common words:\", word_freq.most_common(10))\n"
      ],
      "metadata": {
        "colab": {
          "base_uri": "https://localhost:8080/"
        },
        "id": "TiRKWRLHx5fI",
        "outputId": "2f27e505-599c-4205-c2ac-019674267c07"
      },
      "execution_count": 10,
      "outputs": [
        {
          "output_type": "stream",
          "name": "stdout",
          "text": [
            "Most common words: [('gender', 6134), ('people', 4530), ('like', 2774), ('dont', 2483), ('male', 2266), ('genders', 2265), ('sex', 2192), ('think', 2044), ('im', 1898), ('want', 1752)]\n"
          ]
        }
      ]
    },
    {
      "cell_type": "code",
      "source": [
        "from sklearn.feature_extraction.text import TfidfVectorizer\n",
        "\n",
        "vectorizer = TfidfVectorizer(max_features=10)\n",
        "tfidf_matrix = vectorizer.fit_transform(df['cleaned_review'])\n",
        "\n",
        "# Get the keywords\n",
        "keywords = vectorizer.get_feature_names_out()\n",
        "tfidf_scores = tfidf_matrix.toarray()\n",
        "\n",
        "# Create a DataFrame with the TF-IDF scores\n",
        "tfidf_df = pd.DataFrame(tfidf_scores, columns=keywords)\n",
        "print(tfidf_df.head())  # View the first few rows of the TF-IDF matrix\n"
      ],
      "metadata": {
        "colab": {
          "base_uri": "https://localhost:8080/"
        },
        "id": "cU6X5tZ_x5h6",
        "outputId": "1bb7e897-d217-42be-c611-613d7727e06e"
      },
      "execution_count": 11,
      "outputs": [
        {
          "output_type": "stream",
          "name": "stdout",
          "text": [
            "       dont    gender   genders   im  like      male    people       sex  \\\n",
            "0  0.176885  0.273462  0.339429  0.0   0.0  0.555323  0.573366  0.376279   \n",
            "1  0.000000  0.000000  0.000000  0.0   0.0  0.000000  0.000000  0.000000   \n",
            "2  0.000000  0.000000  0.000000  0.0   0.0  0.000000  0.000000  0.000000   \n",
            "3  0.000000  0.000000  0.000000  0.0   0.0  0.000000  0.000000  0.000000   \n",
            "4  0.000000  0.000000  1.000000  0.0   0.0  0.000000  0.000000  0.000000   \n",
            "\n",
            "   think  want  \n",
            "0    0.0   0.0  \n",
            "1    0.0   0.0  \n",
            "2    0.0   0.0  \n",
            "3    0.0   0.0  \n",
            "4    0.0   0.0  \n"
          ]
        }
      ]
    },
    {
      "cell_type": "code",
      "source": [
        "from nltk.sentiment import SentimentIntensityAnalyzer\n",
        "\n",
        "nltk.download('vader_lexicon')\n",
        "sia = SentimentIntensityAnalyzer()\n",
        "\n",
        "def get_sentiment(text):\n",
        "    scores = sia.polarity_scores(text)\n",
        "    if scores['compound'] >= 0.05:\n",
        "        return 'positive'\n",
        "    elif scores['compound'] <= -0.05:\n",
        "        return 'negative'\n",
        "    else:\n",
        "        return 'neutral'\n",
        "\n",
        "# Apply the sentiment analysis\n",
        "df['predicted_sentiment'] = df['cleaned_review'].apply(get_sentiment)\n",
        "print(df.head())  # View the DataFrame with predicted sentiment\n"
      ],
      "metadata": {
        "colab": {
          "base_uri": "https://localhost:8080/"
        },
        "id": "RNvder0tx5kv",
        "outputId": "4a2b7a4b-e4c1-4b29-c7ee-6e2de4f5eb16"
      },
      "execution_count": 12,
      "outputs": [
        {
          "output_type": "stream",
          "name": "stderr",
          "text": [
            "[nltk_data] Downloading package vader_lexicon to /root/nltk_data...\n",
            "[nltk_data]   Package vader_lexicon is already up-to-date!\n"
          ]
        },
        {
          "output_type": "stream",
          "name": "stdout",
          "text": [
            "                                                body              category  \\\n",
            "0  It's sad that this is now an unpopular opinion...                   NaN   \n",
            "1                                          [deleted]  TrueUnpopularOpinion   \n",
            "2  Or you're some mix of the two, but its very ve...  TrueUnpopularOpinion   \n",
            "3                         Literal Newspeak in action  TrueUnpopularOpinion   \n",
            "4                    one genders actually\\n\\n_monke_  TrueUnpopularOpinion   \n",
            "\n",
            "            communityName                 createdAt dataType  flair  \\\n",
            "0  r/TrueUnpopularOpinion  2021-04-23T22:01:51.000Z     post    NaN   \n",
            "1  r/TrueUnpopularOpinion  2021-04-23T23:13:14.000Z  comment    NaN   \n",
            "2  r/TrueUnpopularOpinion  2021-04-23T23:58:53.000Z  comment    NaN   \n",
            "3  r/TrueUnpopularOpinion  2021-04-24T00:53:20.000Z  comment    NaN   \n",
            "4  r/TrueUnpopularOpinion  2021-04-24T02:03:16.000Z  comment    NaN   \n",
            "\n",
            "                                                html          id   isAd  \\\n",
            "0  &lt;!-- SC_OFF --&gt;&lt;div class=\"md\"&gt;&lt...   t3_mx67mq  False   \n",
            "1  &lt;div class=\"md\"&gt;&lt;p&gt;[deleted]&lt;/p...  t1_gvmgbcc    NaN   \n",
            "2  &lt;div class=\"md\"&gt;&lt;p&gt;Or you&amp;#39;...  t1_gvmlgns    NaN   \n",
            "3  &lt;div class=\"md\"&gt;&lt;p&gt;Literal Newspea...  t1_gvmrhkb    NaN   \n",
            "4  &lt;div class=\"md\"&gt;&lt;p&gt;one genders act...  t1_gvmz25y    NaN   \n",
            "\n",
            "  isVideo  ...                 scrapedAt  thumbnailUrl  \\\n",
            "0   False  ...  2024-09-14T18:07:41.618Z          self   \n",
            "1     NaN  ...  2024-09-14T18:07:41.648Z           NaN   \n",
            "2     NaN  ...  2024-09-14T18:07:41.648Z           NaN   \n",
            "3     NaN  ...  2024-09-14T18:07:41.648Z           NaN   \n",
            "4     NaN  ...  2024-09-14T18:07:41.648Z           NaN   \n",
            "\n",
            "                       title upVoteRatio upVotes  \\\n",
            "0  There are only 2 genders.        0.84     697   \n",
            "1                        NaN         NaN     187   \n",
            "2                        NaN         NaN      47   \n",
            "3                        NaN         NaN       9   \n",
            "4                        NaN         NaN      67   \n",
            "\n",
            "                                                 url       userId  \\\n",
            "0  https://www.reddit.com/r/TrueUnpopularOpinion/...          NaN   \n",
            "1  https://www.reddit.com/r/TrueUnpopularOpinion/...          NaN   \n",
            "2  https://www.reddit.com/r/TrueUnpopularOpinion/...     t2_6selg   \n",
            "3  https://www.reddit.com/r/TrueUnpopularOpinion/...          NaN   \n",
            "4  https://www.reddit.com/r/TrueUnpopularOpinion/...  t2_262u5ly2   \n",
            "\n",
            "          username                                     cleaned_review  \\\n",
            "0        [deleted]  sad unpopular opinion definition genderstraigh...   \n",
            "1        [deleted]                                            deleted   \n",
            "2    sakurashinken  youre mix two rare youre one whole intersex co...   \n",
            "3        [deleted]                            literal newspeak action   \n",
            "4  waytothestriker                         one genders actually monke   \n",
            "\n",
            "  predicted_sentiment  \n",
            "0            positive  \n",
            "1             neutral  \n",
            "2             neutral  \n",
            "3             neutral  \n",
            "4             neutral  \n",
            "\n",
            "[5 rows x 27 columns]\n"
          ]
        }
      ]
    },
    {
      "cell_type": "code",
      "source": [
        "import matplotlib.pyplot as plt\n",
        "\n",
        "# Count the occurrences of each sentiment category\n",
        "sentiment_counts = df['predicted_sentiment'].value_counts()\n",
        "\n",
        "# Plot the sentiment distribution\n",
        "plt.figure(figsize=(6, 6))\n",
        "plt.pie(sentiment_counts, labels=sentiment_counts.index, autopct='%1.1f%%', startangle=140)\n",
        "plt.title('Sentiment Distribution')\n",
        "plt.show()\n"
      ],
      "metadata": {
        "colab": {
          "base_uri": "https://localhost:8080/",
          "height": 521
        },
        "id": "2f5IopLkx5ov",
        "outputId": "ed65623f-3c67-45ab-c4bc-9d6803fa8069"
      },
      "execution_count": 13,
      "outputs": [
        {
          "output_type": "display_data",
          "data": {
            "text/plain": [
              "<Figure size 600x600 with 1 Axes>"
            ],
            "image/png": "[encoded data removed]"
          },
          "metadata": {}
        }
      ]
    }
  ]
}